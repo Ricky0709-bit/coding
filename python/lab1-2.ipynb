{
 "cells": [
  {
   "cell_type": "code",
   "execution_count": 9,
   "metadata": {},
   "outputs": [
    {
     "name": "stdout",
     "output_type": "stream",
     "text": [
      "2024-08-02 14:22:56.509809\n",
      "2024\n",
      "8\n",
      "2\n",
      "14\n",
      "22\n",
      "56\n",
      "509809\n"
     ]
    }
   ],
   "source": [
    "import datetime\n",
    "#can also use .now()/today().date()/today().time()\n",
    "current_date=datetime.datetime.today()\n",
    "print(current_date)\n",
    "print(current_date.year)\n",
    "print(current_date.month)\n",
    "print(current_date.day)\n",
    "print(current_date.hour)\n",
    "print(current_date.minute)\n",
    "print(current_date.second)\n",
    "print(current_date.microsecond)"
   ]
  },
  {
   "cell_type": "code",
   "execution_count": 13,
   "metadata": {},
   "outputs": [
    {
     "name": "stdout",
     "output_type": "stream",
     "text": [
      "2021-11-06 14:22:56.509809\n"
     ]
    }
   ],
   "source": [
    "import datetime\n",
    "\n",
    "new_date = current_date + datetime.timedelta(days=-1000)\n",
    "print(new_date)"
   ]
  },
  {
   "cell_type": "code",
   "execution_count": 17,
   "metadata": {},
   "outputs": [
    {
     "name": "stdout",
     "output_type": "stream",
     "text": [
      "a+b= 8.0\n",
      "a-b= -4.0\n",
      "a*b= 12.0\n",
      "a/b= 0.3333333333333333\n",
      "a mod b= 2.0\n",
      "a**b= 64.0\n",
      "a//b= 0.0\n"
     ]
    }
   ],
   "source": [
    "a=float(input(\"enter 1st no:\"))\n",
    "b=float(input(\"enter 2nd no:\"))\n",
    "\n",
    "print(\"a+b=\",a+b)\n",
    "print(\"a-b=\",a-b)\n",
    "print(\"a*b=\",a*b)\n",
    "print(\"a/b=\",a/b)\n",
    "print(\"a mod b=\",a%b)\n",
    "print(\"a**b=\",a**b)\n",
    "print(\"a//b=\",a//b)"
   ]
  },
  {
   "cell_type": "code",
   "execution_count": 2,
   "metadata": {},
   "outputs": [
    {
     "name": "stdout",
     "output_type": "stream",
     "text": [
      "126\n"
     ]
    }
   ],
   "source": [
    "z = lambda a,b : a*b\n",
    "print(z(7,18))"
   ]
  }
 ],
 "metadata": {
  "kernelspec": {
   "display_name": "Python 3",
   "language": "python",
   "name": "python3"
  },
  "language_info": {
   "codemirror_mode": {
    "name": "ipython",
    "version": 3
   },
   "file_extension": ".py",
   "mimetype": "text/x-python",
   "name": "python",
   "nbconvert_exporter": "python",
   "pygments_lexer": "ipython3",
   "version": "3.12.4"
  }
 },
 "nbformat": 4,
 "nbformat_minor": 2
}
