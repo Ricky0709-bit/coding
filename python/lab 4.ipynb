{
 "cells": [
  {
   "cell_type": "code",
   "execution_count": 10,
   "metadata": {},
   "outputs": [
    {
     "name": "stdout",
     "output_type": "stream",
     "text": [
      "String is: Demon\n",
      "Result: Dmn\n"
     ]
    }
   ],
   "source": [
    "#1:  Create a string made of the first, middle and last character\n",
    "s=\"Demon\"\n",
    "print(\"String is:\",s)\n",
    "\n",
    "res=s[0]\n",
    "l=len(s)\n",
    "m=int(l/2)\n",
    "res = res + s[m]\n",
    "res = res + s[l-1]\n",
    "print(\"Result:\",res)"
   ]
  },
  {
   "cell_type": "code",
   "execution_count": 3,
   "metadata": {},
   "outputs": [
    {
     "name": "stdout",
     "output_type": "stream",
     "text": [
      "String is: Hunter   Demon\n",
      "Hunter - The Demon\n"
     ]
    }
   ],
   "source": [
    "# 2: Append new string in the middle of a given string \n",
    "s=\"Hunter   Demon\"\n",
    "print(\"String is:\",s)\n",
    "\n",
    "sm=s[:7] + \"- The\" + s[8:]\n",
    "print(sm)"
   ]
  },
  {
   "cell_type": "code",
   "execution_count": 2,
   "metadata": {},
   "outputs": [
    {
     "name": "stdout",
     "output_type": "stream",
     "text": [
      "HDLtmvrnr\n"
     ]
    }
   ],
   "source": [
    "#3: Create a new string made of the first, middle, and last characters of each input string\n",
    "def strings(s1,s2,s3):\n",
    "    first = s1[0] + s2[0] + s3[0]\n",
    "    middle = s1[int(len(s1)/2):int(len(s1)/2+1)] + s2[int(len(s2)/2):int(len(s2)/2+1)] + s3[int(len(s3)/2):int(len(s3)/2+1)]\n",
    "    last = s1[int(len(s1))-1] + s2[int(len(s2))-1] + s3[int(len(s3))-1]\n",
    "\n",
    "    return first+middle+last\n",
    "print(strings(\"Hunter\", \"Demon\", \"Lover\"))"
   ]
  },
  {
   "cell_type": "code",
   "execution_count": 10,
   "metadata": {},
   "outputs": [
    {
     "name": "stdout",
     "output_type": "stream",
     "text": [
      "unteremonHD\n"
     ]
    }
   ],
   "source": [
    "#4: Arrange string characters such that lowercase letters should come first\n",
    "\n",
    "string=\"HunterDemon\"\n",
    "lower =[]\n",
    "upper = []\n",
    "for i in string:\n",
    "    if i.islower():\n",
    "        lower.append(i)\n",
    "    else:\n",
    "        upper.append(i)\n",
    "string=''.join(lower+upper)\n",
    "print(string)"
   ]
  },
  {
   "cell_type": "code",
   "execution_count": 12,
   "metadata": {},
   "outputs": [
    {
     "name": "stdout",
     "output_type": "stream",
     "text": [
      "Letters: 11 Digits: 4 Special: 2\n"
     ]
    }
   ],
   "source": [
    "# 5: Count all letters, digits, and special symbols from a given string \n",
    "def count(string):\n",
    "    letters = 0\n",
    "    digits = 0\n",
    "    special = 0\n",
    "    for i in string:\n",
    "        if i.isalpha():\n",
    "            letters += 1\n",
    "        elif i.isdigit():\n",
    "            digits += 1\n",
    "        else:\n",
    "            special += 1\n",
    "    print(\"Letters:\",letters,\"Digits:\",digits,\"Special:\",special)\n",
    "\n",
    "count(\"Hunter@Demon#0709\")"
   ]
  },
  {
   "cell_type": "code",
   "execution_count": 14,
   "metadata": {},
   "outputs": [
    {
     "name": "stdout",
     "output_type": "stream",
     "text": [
      "The count of Demon is: 3\n"
     ]
    }
   ],
   "source": [
    "#6: Find all occurrences of a substring in a given string by ignoring the case\n",
    "s1=\"Hunter- The Demon. Demon never loses. Demon always wins. \"\n",
    "sub=\"Demon\"\n",
    "\n",
    "temp=s1.upper()\n",
    "\n",
    "count=temp.count(sub.upper())\n",
    "print(\"The count of Demon is:\",count)"
   ]
  },
  {
   "cell_type": "code",
   "execution_count": 15,
   "metadata": {},
   "outputs": [
    {
     "name": "stdout",
     "output_type": "stream",
     "text": [
      "Sum: 23 Average: 2.875\n"
     ]
    }
   ],
   "source": [
    "#7: Calculate the sum and average of the digits present in a string\n",
    "def calculate(string):\n",
    "    sum = 0\n",
    "    count = 0\n",
    "    for i in string:\n",
    "        if i.isdigit():\n",
    "            sum += int(i)\n",
    "            count += 1\n",
    "    avg = sum / count\n",
    "    print(\"Sum:\",sum,\"Average:\",avg)\n",
    "\n",
    "calculate(\"Hunter2005Demon0709\")"
   ]
  },
  {
   "cell_type": "code",
   "execution_count": 10,
   "metadata": {},
   "outputs": [
    {
     "name": "stdout",
     "output_type": "stream",
     "text": [
      "'H' : 1\n",
      "'u' : 1\n",
      "'n' : 2\n",
      "'t' : 1\n",
      "'e' : 3\n",
      "'r' : 1\n",
      "'-' : 1\n",
      "' ' : 2\n",
      "'T' : 1\n",
      "'h' : 1\n",
      "'D' : 1\n",
      "'m' : 1\n",
      "'o' : 1\n"
     ]
    }
   ],
   "source": [
    "#8: Write a program to count occurrences of all characters within a string\n",
    "s1=\"Hunter- The Demon\"\n",
    "\n",
    "count = \"\"\n",
    "for i in s1:\n",
    "    if i not in count:\n",
    "        print(f\"'{i}' : {s1.count(i)}\")\n",
    "        count +=i"
   ]
  },
  {
   "cell_type": "code",
   "execution_count": 1,
   "metadata": {},
   "outputs": [
    {
     "name": "stdout",
     "output_type": "stream",
     "text": [
      "nomeD ehT -retnuH\n"
     ]
    }
   ],
   "source": [
    "#9:  Reverse a given string \n",
    "s1=\"Hunter- The Demon\"\n",
    "\n",
    "print(s1[::-1])"
   ]
  },
  {
   "cell_type": "code",
   "execution_count": 4,
   "metadata": {},
   "outputs": [
    {
     "name": "stdout",
     "output_type": "stream",
     "text": [
      "Last occurrence of Demon starts at index: 38\n"
     ]
    }
   ],
   "source": [
    "#10:  Find the last position of a given substring \n",
    "s1=\"Hunter- The Demon. Demon never loses. Demon always wins. \"\n",
    "last = s1.rfind(\"Demon\")\n",
    "print(\"Last occurrence of Demon starts at index:\",last)"
   ]
  }
 ],
 "metadata": {
  "kernelspec": {
   "display_name": "Python 3",
   "language": "python",
   "name": "python3"
  },
  "language_info": {
   "codemirror_mode": {
    "name": "ipython",
    "version": 3
   },
   "file_extension": ".py",
   "mimetype": "text/x-python",
   "name": "python",
   "nbconvert_exporter": "python",
   "pygments_lexer": "ipython3",
   "version": "3.12.4"
  }
 },
 "nbformat": 4,
 "nbformat_minor": 2
}
