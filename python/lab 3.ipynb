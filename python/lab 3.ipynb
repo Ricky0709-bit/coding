{
 "cells": [
  {
   "cell_type": "code",
   "execution_count": 6,
   "metadata": {},
   "outputs": [
    {
     "name": "stdout",
     "output_type": "stream",
     "text": [
      "Hello, I'm Demon!\n"
     ]
    }
   ],
   "source": [
    "#1: Create a function \n",
    "def greet():\n",
    "    name = input(\"Enter your name:\")\n",
    "    print(f\"Hello, {name}!\")\n",
    "\n",
    "greet()"
   ]
  },
  {
   "cell_type": "code",
   "execution_count": 36,
   "metadata": {},
   "outputs": [
    {
     "name": "stdout",
     "output_type": "stream",
     "text": [
      "1\n",
      "3\n",
      "7\n",
      "4\n",
      "6\n"
     ]
    }
   ],
   "source": [
    "#2: Create a function with variable length of arguments \n",
    "def funclen(*arg):\n",
    "    for i in arg:\n",
    "        print(i)\n",
    "    \n",
    "funclen(1,3,7)\n",
    "funclen(4,6)"
   ]
  },
  {
   "cell_type": "code",
   "execution_count": 37,
   "metadata": {},
   "outputs": [
    {
     "name": "stdout",
     "output_type": "stream",
     "text": [
      "(15, 0.6, 8, -2, 3, 0)\n"
     ]
    }
   ],
   "source": [
    "#3: Return multiple values from a function\n",
    "def mulfunc(x,y):\n",
    "    return x*y, x/y, x+y, x-y, x%y, x//y\n",
    "\n",
    "n1=int(input(\"enter 1st no:\"))\n",
    "n2=int(input(\"enter 2nd no:\"))\n",
    "res = mulfunc(n1,n2)\n",
    "print(res)"
   ]
  },
  {
   "cell_type": "code",
   "execution_count": 7,
   "metadata": {},
   "outputs": [
    {
     "name": "stdout",
     "output_type": "stream",
     "text": [
      "Name: Hunter -  I'm Demon\n"
     ]
    }
   ],
   "source": [
    "#4: Create a function with a default argument\n",
    "def funcarg(nm,des=\"I'm Demon\"):\n",
    "    print(\"Name:\",nm,des)\n",
    "\n",
    "funcarg(\"Hunter - \")\n",
    "    "
   ]
  },
  {
   "cell_type": "code",
   "execution_count": 8,
   "metadata": {},
   "outputs": [
    {
     "data": {
      "text/plain": [
       "20"
      ]
     },
     "execution_count": 8,
     "metadata": {},
     "output_type": "execute_result"
    }
   ],
   "source": [
    "#5: Create an inner function to calculate the addition \n",
    "def outfunc(x,y):\n",
    "    power = x ** y\n",
    "    def infunc(x,y):\n",
    "        return x + y\n",
    "    \n",
    "    add = infunc(x,y)\n",
    "    return add + 7\n",
    "\n",
    "n1=int(input(\"enter 1st no:\"))\n",
    "n2=int(input(\"enter 2nd no:\"))\n",
    "outfunc(n1,n2)"
   ]
  },
  {
   "cell_type": "code",
   "execution_count": 9,
   "metadata": {},
   "outputs": [
    {
     "name": "stdout",
     "output_type": "stream",
     "text": [
      "5040\n"
     ]
    }
   ],
   "source": [
    "#6: Create a recursive function \n",
    "def recurse(n):\n",
    "    if n == 0:\n",
    "        return 1\n",
    "    else:\n",
    "        return n * recurse(n-1)\n",
    "\n",
    "n=int(input(\"Enter a no:\"))\n",
    "print(recurse(n))"
   ]
  },
  {
   "cell_type": "code",
   "execution_count": 10,
   "metadata": {},
   "outputs": [
    {
     "name": "stdout",
     "output_type": "stream",
     "text": [
      "49\n"
     ]
    }
   ],
   "source": [
    "#7: Assign a different name to function and call it through the new name \n",
    "def oldfunc(n):\n",
    "    return n*n\n",
    "newfunc = oldfunc\n",
    "\n",
    "n=int(input(\"Enter a no:\"))\n",
    "print(newfunc(n))"
   ]
  }
 ],
 "metadata": {
  "kernelspec": {
   "display_name": "Python 3",
   "language": "python",
   "name": "python3"
  },
  "language_info": {
   "codemirror_mode": {
    "name": "ipython",
    "version": 3
   },
   "file_extension": ".py",
   "mimetype": "text/x-python",
   "name": "python",
   "nbconvert_exporter": "python",
   "pygments_lexer": "ipython3",
   "version": "3.12.4"
  }
 },
 "nbformat": 4,
 "nbformat_minor": 2
}
