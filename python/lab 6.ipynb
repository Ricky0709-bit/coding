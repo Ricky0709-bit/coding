{
 "cells": [
  {
   "cell_type": "code",
   "execution_count": 1,
   "metadata": {},
   "outputs": [
    {
     "name": "stdout",
     "output_type": "stream",
     "text": [
      "(10, 20, 30, 'Pune', 'Mumbai', 'Delhi')\n"
     ]
    }
   ],
   "source": [
    "# 1: Merge myTuple and yourTuple into ourTuple. \n",
    "myTuple= (10, 20, 30) \n",
    "yourTuple = (\"Pune\",\"Mumbai\",\"Delhi\")\n",
    "ourTuple= myTuple + yourTuple\n",
    "print(ourTuple)"
   ]
  },
  {
   "cell_type": "code",
   "execution_count": 3,
   "metadata": {},
   "outputs": [
    {
     "name": "stdout",
     "output_type": "stream",
     "text": [
      "[10, 20, 30]\n",
      "[30, 20, 10]\n"
     ]
    }
   ],
   "source": [
    "#2: Convert myTuple into list myList and reverse. \n",
    "myTuple= (10, 20, 30)\n",
    "myList=list(myTuple)\n",
    "print(myList)\n",
    "myList.reverse()\n",
    "print(myList)"
   ]
  },
  {
   "cell_type": "code",
   "execution_count": 5,
   "metadata": {},
   "outputs": [
    {
     "name": "stdout",
     "output_type": "stream",
     "text": [
      "District: Pune\n",
      "State: Mumbai\n",
      "National: Delhi\n"
     ]
    }
   ],
   "source": [
    "#3: Unpack yourTuple values into three variables - District, State, and National. \n",
    "yourTuple = (\"Pune\",\"Mumbai\",\"Delhi\")\n",
    "District, State, National = yourTuple\n",
    "print(f\"District: {District}\")\n",
    "print(f\"State: {State}\")\n",
    "print(f\"National: {National}\")"
   ]
  },
  {
   "cell_type": "code",
   "execution_count": 7,
   "metadata": {},
   "outputs": [
    {
     "name": "stdout",
     "output_type": "stream",
     "text": [
      "MixTuple: ('Foo', [1, 2, 3], 'True')\n"
     ]
    }
   ],
   "source": [
    "#4: Display all elements of mixTuple. \n",
    "mixTuple= ('Foo',[1,2,3],'True')\n",
    "print(f\"MixTuple: {mixTuple}\")"
   ]
  },
  {
   "cell_type": "code",
   "execution_count": 10,
   "metadata": {},
   "outputs": [
    {
     "name": "stdout",
     "output_type": "stream",
     "text": [
      "['Foo', [1, 2, 3, 4], 'True']\n"
     ]
    }
   ],
   "source": [
    "#5: Add 4 into list element of mixTuple\n",
    "mixTuple= ('Foo',[1,2,3],'True')\n",
    "l=list(mixTuple)\n",
    "l[1].append(4)\n",
    "print(l)"
   ]
  },
  {
   "cell_type": "code",
   "execution_count": 1,
   "metadata": {},
   "outputs": [
    {
     "name": "stdout",
     "output_type": "stream",
     "text": [
      "Addition of tuples: (10, 20, 30, 'Pune', 'Mumbai', 'Delhi')\n",
      "Multiplication of myTuple: (10, 20, 30, 10, 20, 30, 10, 20, 30)\n",
      "Multiplication of yourTuple: ('Pune', 'Mumbai', 'Delhi', 'Pune', 'Mumbai', 'Delhi', 'Pune', 'Mumbai', 'Delhi')\n"
     ]
    }
   ],
   "source": [
    "#6: Perform algebraic operations addition and multiplication on myTuple and yourTuple.\n",
    "myTuple= (10, 20, 30) \n",
    "yourTuple = (\"Pune\",\"Mumbai\",\"Delhi\")\n",
    "add = myTuple + yourTuple\n",
    "print(f\"Addition of tuples: {add}\")\n",
    "\n",
    "mul1 = myTuple * 3\n",
    "mul2 = yourTuple * 3\n",
    "print(f\"Multiplication of myTuple: {mul1}\")\n",
    "print(f\"Multiplication of yourTuple: {mul2}\")"
   ]
  },
  {
   "cell_type": "code",
   "execution_count": 16,
   "metadata": {},
   "outputs": [
    {
     "name": "stdout",
     "output_type": "stream",
     "text": [
      "Details of 1st Book:\n",
      "Name of Author = Wes McKinney\n",
      "NAme of Book = Python for Data Analysis\n",
      "Name of Publisher = O’Reilly Media\n",
      "\n",
      "Details of 2nd Book:\n",
      "Name of Author = Mark Lutz\n",
      "Name of Book = Programming Python\n",
      "Name of Publisher = O’Reilly Media\n",
      "\n",
      "Details of 3rd Book:\n",
      "Name of Author = Charles Severance\n",
      "Name of Book = Python for Everybody\n",
      "Name of Publisher = Blumenberg\n",
      "\n"
     ]
    }
   ],
   "source": [
    "#7: Access information from nestedTuple and display the information as: \n",
    "#Name of Author   = ‘ Wes McKinney’, \n",
    "#Name of Book      = ’ Python for Data Analysis’, \n",
    "#Name of Publisher= ’ O’Reilly Media’ \n",
    "nestedTuple=((\"Wes McKinney\",\"Python for Data Analysis\",\"O’Reilly Media\"),  \n",
    "(\"Mark Lutz\",\"Programming Python\",\"O’Reilly Media\"),  \n",
    "(\"Charles Severance\",\"Python for Everybody\",\"Blumenberg\"))\n",
    "\n",
    "author1, book1, publisher1 = nestedTuple[0]\n",
    "author2, book2, publisher2 = nestedTuple[1]\n",
    "author3, book3, publisher3 = nestedTuple[2]\n",
    "\n",
    "print(\"Details of 1st Book:\")\n",
    "print(f\"Name of Author = {author1}\")\n",
    "print(f\"NAme of Book = {book1}\")\n",
    "print(f\"Name of Publisher = {publisher1}\\n\")\n",
    "\n",
    "print(\"Details of 2nd Book:\")\n",
    "print(f\"Name of Author = {author2}\")\n",
    "print(f\"Name of Book = {book2}\")\n",
    "print(f\"Name of Publisher = {publisher2}\\n\")\n",
    "\n",
    "print(\"Details of 3rd Book:\")\n",
    "print(f\"Name of Author = {author3}\")\n",
    "print(f\"Name of Book = {book3}\")\n",
    "print(f\"Name of Publisher = {publisher3}\\n\")"
   ]
  }
 ],
 "metadata": {
  "kernelspec": {
   "display_name": "Python 3",
   "language": "python",
   "name": "python3"
  },
  "language_info": {
   "codemirror_mode": {
    "name": "ipython",
    "version": 3
   },
   "file_extension": ".py",
   "mimetype": "text/x-python",
   "name": "python",
   "nbconvert_exporter": "python",
   "pygments_lexer": "ipython3",
   "version": "3.12.4"
  }
 },
 "nbformat": 4,
 "nbformat_minor": 2
}
