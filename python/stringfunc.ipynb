{
 "cells": [
  {
   "cell_type": "code",
   "execution_count": null,
   "metadata": {},
   "outputs": [],
   "source": [
    "#String Functions"
   ]
  },
  {
   "cell_type": "code",
   "execution_count": 2,
   "metadata": {},
   "outputs": [
    {
     "name": "stdout",
     "output_type": "stream",
     "text": [
      "Demon\n"
     ]
    }
   ],
   "source": [
    "#1: capitalize()\n",
    "x=\"demon\"\n",
    "print(x.capitalize()) "
   ]
  },
  {
   "cell_type": "code",
   "execution_count": 3,
   "metadata": {},
   "outputs": [
    {
     "name": "stdout",
     "output_type": "stream",
     "text": [
      "DEMON\n"
     ]
    }
   ],
   "source": [
    "#2: upper()\n",
    "x=\"demon\"\n",
    "print(x.upper())"
   ]
  },
  {
   "cell_type": "code",
   "execution_count": 4,
   "metadata": {},
   "outputs": [
    {
     "name": "stdout",
     "output_type": "stream",
     "text": [
      "demon\n"
     ]
    }
   ],
   "source": [
    "#3: lower()\n",
    "x=\"DEMON\"\n",
    "print(x.lower())"
   ]
  },
  {
   "cell_type": "code",
   "execution_count": 5,
   "metadata": {},
   "outputs": [
    {
     "name": "stdout",
     "output_type": "stream",
     "text": [
      "I'M Demon\n"
     ]
    }
   ],
   "source": [
    "#4: title()\n",
    "x=\"i'm demon\"\n",
    "print(x.title())"
   ]
  },
  {
   "cell_type": "code",
   "execution_count": 6,
   "metadata": {},
   "outputs": [
    {
     "name": "stdout",
     "output_type": "stream",
     "text": [
      "I'm Demon\n"
     ]
    }
   ],
   "source": [
    "#5: swapcase()\n",
    "x=\"i'M dEMON\"\n",
    "print(x.swapcase())"
   ]
  },
  {
   "cell_type": "code",
   "execution_count": 7,
   "metadata": {},
   "outputs": [
    {
     "name": "stdout",
     "output_type": "stream",
     "text": [
      "I'm    Demon\n"
     ]
    }
   ],
   "source": [
    "#6: lstrip()\n",
    "x=\"    I'm    Demon\"\n",
    "print(x.lstrip())"
   ]
  },
  {
   "cell_type": "code",
   "execution_count": 8,
   "metadata": {},
   "outputs": [
    {
     "name": "stdout",
     "output_type": "stream",
     "text": [
      "    I'm    Demon\n"
     ]
    }
   ],
   "source": [
    "#7: rstrip()\n",
    "x=\"    I'm    Demon    \"\n",
    "print(x.rstrip())"
   ]
  },
  {
   "cell_type": "code",
   "execution_count": 9,
   "metadata": {},
   "outputs": [
    {
     "name": "stdout",
     "output_type": "stream",
     "text": [
      "I'm    Demon\n"
     ]
    }
   ],
   "source": [
    "#8: strip()\n",
    "x=\"    I'm    Demon     \"\n",
    "print(x.strip())"
   ]
  },
  {
   "cell_type": "code",
   "execution_count": 10,
   "metadata": {},
   "outputs": [
    {
     "name": "stdout",
     "output_type": "stream",
     "text": [
      "I'm Demon\n"
     ]
    }
   ],
   "source": [
    "#9: replace()\n",
    "x=\"I'm Great\"\n",
    "print(x.replace('Great','Demon'))"
   ]
  },
  {
   "cell_type": "code",
   "execution_count": 11,
   "metadata": {},
   "outputs": [
    {
     "name": "stdout",
     "output_type": "stream",
     "text": [
      "2\n"
     ]
    }
   ],
   "source": [
    "#10: count()\n",
    "x=\"I'm Demon \"\n",
    "print(x.count('m'))"
   ]
  },
  {
   "cell_type": "code",
   "execution_count": 12,
   "metadata": {},
   "outputs": [
    {
     "name": "stdout",
     "output_type": "stream",
     "text": [
      "2\n"
     ]
    }
   ],
   "source": [
    "#11: index()\n",
    "x=\"I'm Demon \"\n",
    "print(x.index('m'))"
   ]
  },
  {
   "cell_type": "code",
   "execution_count": 14,
   "metadata": {},
   "outputs": [
    {
     "name": "stdout",
     "output_type": "stream",
     "text": [
      "13\n"
     ]
    }
   ],
   "source": [
    "#12: find()\n",
    "x=\"I'm the real Demon.Most freakin Demon of all Time\"\n",
    "print(x.find('Demon',12,50))"
   ]
  },
  {
   "cell_type": "code",
   "execution_count": 16,
   "metadata": {},
   "outputs": [
    {
     "name": "stdout",
     "output_type": "stream",
     "text": [
      "[\"I'm\", 'the', 'real', 'Demon.', 'Most', 'freakin', 'Demon', 'of', 'all', 'Time']\n"
     ]
    }
   ],
   "source": [
    "#13: split()\n",
    "x=\"I'm the real Demon. Most freakin Demon of all Time\"\n",
    "print(x.split(' '))"
   ]
  },
  {
   "cell_type": "code",
   "execution_count": 21,
   "metadata": {},
   "outputs": [
    {
     "data": {
      "text/plain": [
       "'Im the real Demon. Most freakin Demon of all Time'"
      ]
     },
     "execution_count": 21,
     "metadata": {},
     "output_type": "execute_result"
    }
   ],
   "source": [
    "#14: join()\n",
    "x=['Im the real Demon.','Most freakin' ,'Demon of all Time']\n",
    "' '.join(x)"
   ]
  },
  {
   "cell_type": "code",
   "execution_count": 22,
   "metadata": {},
   "outputs": [
    {
     "name": "stdout",
     "output_type": "stream",
     "text": [
      "True\n"
     ]
    }
   ],
   "source": [
    "#15: endswith()\n",
    "x=\"I'm Demon\"\n",
    "print(x.endswith('n'))"
   ]
  },
  {
   "cell_type": "code",
   "execution_count": 24,
   "metadata": {},
   "outputs": [
    {
     "name": "stdout",
     "output_type": "stream",
     "text": [
      "False\n"
     ]
    }
   ],
   "source": [
    "#16: startswith()\n",
    "x=\"I'm Demon\"\n",
    "print(x.startswith('i'))"
   ]
  },
  {
   "cell_type": "code",
   "execution_count": 30,
   "metadata": {},
   "outputs": [
    {
     "name": "stdout",
     "output_type": "stream",
     "text": [
      "True\n"
     ]
    }
   ],
   "source": [
    "#17: isalnum()\n",
    "x=\"Demon07\"\n",
    "print(x.isalnum())"
   ]
  },
  {
   "cell_type": "code",
   "execution_count": 29,
   "metadata": {},
   "outputs": [
    {
     "name": "stdout",
     "output_type": "stream",
     "text": [
      "False\n"
     ]
    }
   ],
   "source": [
    "#18: isalpha()\n",
    "x=\"Demon07\"\n",
    "print(x.isalpha())"
   ]
  },
  {
   "cell_type": "code",
   "execution_count": 35,
   "metadata": {},
   "outputs": [
    {
     "name": "stdout",
     "output_type": "stream",
     "text": [
      "True\n",
      "True\n",
      "True\n"
     ]
    }
   ],
   "source": [
    "#19: isdecimal() #20: isdigit() #21: isnumeric()\n",
    "x=\"0720\"\n",
    "print(x.isdecimal())\n",
    "print(x.isdigit())\n",
    "print(x.isnumeric())"
   ]
  },
  {
   "cell_type": "code",
   "execution_count": 37,
   "metadata": {},
   "outputs": [
    {
     "name": "stdout",
     "output_type": "stream",
     "text": [
      "True\n"
     ]
    }
   ],
   "source": [
    "#22: islower()\n",
    "x=\"i'm demon\"\n",
    "print(x.islower())"
   ]
  },
  {
   "cell_type": "code",
   "execution_count": 39,
   "metadata": {},
   "outputs": [
    {
     "name": "stdout",
     "output_type": "stream",
     "text": [
      "True\n"
     ]
    }
   ],
   "source": [
    "#23: isupper()\n",
    "x=\"I'M DEMON\"\n",
    "print(x.isupper())"
   ]
  },
  {
   "cell_type": "code",
   "execution_count": 41,
   "metadata": {},
   "outputs": [
    {
     "name": "stdout",
     "output_type": "stream",
     "text": [
      "True\n"
     ]
    }
   ],
   "source": [
    "#24: istitle()\n",
    "x=\"Demon\"\n",
    "print(x.istitle())"
   ]
  },
  {
   "cell_type": "code",
   "execution_count": 42,
   "metadata": {},
   "outputs": [
    {
     "name": "stdout",
     "output_type": "stream",
     "text": [
      "True\n"
     ]
    }
   ],
   "source": [
    "#25: isspace()\n",
    "x=\" \"\n",
    "print(x.isspace())"
   ]
  },
  {
   "cell_type": "code",
   "execution_count": 45,
   "metadata": {},
   "outputs": [
    {
     "name": "stdout",
     "output_type": "stream",
     "text": [
      "00I'm Demon\n"
     ]
    }
   ],
   "source": [
    "#26: zfill()\n",
    "x=\"I'm Demon\"\n",
    "print(x.zfill(11))"
   ]
  },
  {
   "cell_type": "code",
   "execution_count": 46,
   "metadata": {},
   "outputs": [
    {
     "name": "stdout",
     "output_type": "stream",
     "text": [
      "!!!!!!!!!I'm Demon!!!!!!!!!\n"
     ]
    }
   ],
   "source": [
    "#27: center()\n",
    "x=\"I'm Demon\"\n",
    "print(x.center(27,\"!\"))"
   ]
  },
  {
   "cell_type": "code",
   "execution_count": 1,
   "metadata": {},
   "outputs": [
    {
     "name": "stdout",
     "output_type": "stream",
     "text": [
      "ich\n"
     ]
    }
   ],
   "source": [
    "#28: casefold()\n",
    "x=\"Ich\"\n",
    "print(x.casefold())"
   ]
  }
 ],
 "metadata": {
  "kernelspec": {
   "display_name": "Python 3",
   "language": "python",
   "name": "python3"
  },
  "language_info": {
   "codemirror_mode": {
    "name": "ipython",
    "version": 3
   },
   "file_extension": ".py",
   "mimetype": "text/x-python",
   "name": "python",
   "nbconvert_exporter": "python",
   "pygments_lexer": "ipython3",
   "version": "3.12.4"
  }
 },
 "nbformat": 4,
 "nbformat_minor": 2
}
