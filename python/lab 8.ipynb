{
 "cells": [
  {
   "cell_type": "code",
   "execution_count": 1,
   "metadata": {},
   "outputs": [],
   "source": [
    "#1: Create empty set ‘Engineers’and‘Managers’.\n",
    "Engineers = set()\n",
    "Managers = set()"
   ]
  },
  {
   "cell_type": "code",
   "execution_count": 2,
   "metadata": {},
   "outputs": [
    {
     "name": "stdout",
     "output_type": "stream",
     "text": [
      "{'Jack', 'Janice', 'Jane', 'John'}\n",
      "{'Susan', 'Jack', 'Zack', 'Jane'}\n"
     ]
    }
   ],
   "source": [
    "#2:  Using input method add elements in ‘Engineers’and‘Managers’:\n",
    "#Engineers={'Jane', 'John', 'Janice', 'Jack'}\n",
    "#Managers={'Jane', 'Jack', 'Susan', 'Zack'}\n",
    "\n",
    "Engineers = {'Jane', 'John', 'Janice', 'Jack'}\n",
    "Managers = {'Jane', 'Jack', 'Susan', 'Zack'}\n",
    "print(Engineers)\n",
    "print(Managers)"
   ]
  },
  {
   "cell_type": "code",
   "execution_count": 6,
   "metadata": {},
   "outputs": [
    {
     "name": "stdout",
     "output_type": "stream",
     "text": [
      "Jack is an Engineer\n",
      "Janice is an Engineer\n",
      "Jane is an Engineer\n",
      "John is an Engineer\n",
      "\n",
      "\n",
      "Susan is a Manager\n",
      "Jack is a Manager\n",
      "Zack is a Manager\n",
      "Jane is a Manager\n"
     ]
    }
   ],
   "source": [
    "#3: Display all engineers in this format : “NameofEngineeris---“ Jane\n",
    "\n",
    "for engineer in Engineers:\n",
    "    print(f'{engineer} is an Engineer')\n",
    "\n",
    "print('\\n')\n",
    "for manager in Managers:\n",
    "    print(f'{manager} is a Manager')       "
   ]
  },
  {
   "cell_type": "code",
   "execution_count": 7,
   "metadata": {},
   "outputs": [
    {
     "name": "stdout",
     "output_type": "stream",
     "text": [
      "('Susan', 'Jack', 'Zack', 'Jane')\n"
     ]
    }
   ],
   "source": [
    "#4:  Copy all managers and construct a tuple myManagers=('Jane', 'Jack', 'Susan', 'Zack')\n",
    "myManagers = tuple(Managers)\n",
    "print(myManagers)"
   ]
  },
  {
   "cell_type": "code",
   "execution_count": 8,
   "metadata": {},
   "outputs": [
    {
     "name": "stdout",
     "output_type": "stream",
     "text": [
      "['Jack', 'Janice', 'Jane', 'John']\n"
     ]
    }
   ],
   "source": [
    "#5:  Copy all engineers and construct a list myEngineers={'Jane', 'John', 'Janice', 'Jack'}\n",
    "myEngineers = list(Engineers)\n",
    "print(myEngineers)"
   ]
  },
  {
   "cell_type": "code",
   "execution_count": 9,
   "metadata": {},
   "outputs": [
    {
     "name": "stdout",
     "output_type": "stream",
     "text": [
      "{'Susan', 'Zack', 'Jack', 'Jenifer', 'Jane'}\n"
     ]
    }
   ],
   "source": [
    "#6:  Add new manager ‘Jenifer’\n",
    "Managers.add('Jenifer')\n",
    "print(Managers)"
   ]
  },
  {
   "cell_type": "code",
   "execution_count": 10,
   "metadata": {},
   "outputs": [
    {
     "name": "stdout",
     "output_type": "stream",
     "text": [
      "{'Susan', 'Jenifer', 'Zack', 'Jack', 'Janice', 'John', 'Jane'}\n"
     ]
    }
   ],
   "source": [
    "#7:  Create a third set Engineer_Manager by merging both Engineers and Managers sets.\n",
    "Engineer_Manager = Engineers.union(Managers)\n",
    "print(Engineer_Manager)"
   ]
  },
  {
   "cell_type": "code",
   "execution_count": 17,
   "metadata": {},
   "outputs": [
    {
     "name": "stdout",
     "output_type": "stream",
     "text": [
      "Janice is an Engineer but not a Manager\n",
      "John is an Engineer but not a Manager\n"
     ]
    }
   ],
   "source": [
    "#8:  Display the name of engineers who are not managers\n",
    "for engineer in Engineers:\n",
    "    if engineer not in Managers:\n",
    "        print(f'{engineer} is an Engineer but not a Manager')"
   ]
  },
  {
   "cell_type": "code",
   "execution_count": 28,
   "metadata": {},
   "outputs": [
    {
     "name": "stdout",
     "output_type": "stream",
     "text": [
      "Jack is an Engineer and a Manager\n",
      "Jane is an Engineer and a Manager\n"
     ]
    }
   ],
   "source": [
    "#9: Display the name of engineers who also serving as managers.\n",
    "for engineer in Engineers:\n",
    "    if engineer in Managers:\n",
    "        print(f'{engineer} is an Engineer and a Manager')"
   ]
  },
  {
   "cell_type": "code",
   "execution_count": 27,
   "metadata": {},
   "outputs": [
    {
     "name": "stdout",
     "output_type": "stream",
     "text": [
      "Jack is an Engineer and a Manager\n",
      "Janice is an Engineer but not a Manager\n",
      "John is an Engineer but not a Manager\n",
      "Jane is an Engineer and a Manager\n"
     ]
    }
   ],
   "source": [
    "#10: Display the name of person who is either engineer or manager only but not performing both jobs.\n",
    "for person in Engineer_Manager:\n",
    "    if person in Engineers and person in Managers:\n",
    "        print(f'{person} is an Engineer and a Manager')\n",
    "    elif person in Engineers and person not in Managers:\n",
    "        print(f'{person} is an Engineer but not a Manager') "
   ]
  }
 ],
 "metadata": {
  "kernelspec": {
   "display_name": "Python 3",
   "language": "python",
   "name": "python3"
  },
  "language_info": {
   "codemirror_mode": {
    "name": "ipython",
    "version": 3
   },
   "file_extension": ".py",
   "mimetype": "text/x-python",
   "name": "python",
   "nbconvert_exporter": "python",
   "pygments_lexer": "ipython3",
   "version": "3.12.4"
  }
 },
 "nbformat": 4,
 "nbformat_minor": 2
}
