{
 "cells": [
  {
   "cell_type": "code",
   "execution_count": 1,
   "metadata": {},
   "outputs": [
    {
     "name": "stdout",
     "output_type": "stream",
     "text": [
      "myWallet =  {'Diary': 1, 'CCards': 2, 'DCards': 2, 'VCards': 5}\n"
     ]
    }
   ],
   "source": [
    "#Write a Python program which read the Particulars.txt file contains the elements in the string format.  \n",
    "#Particular.txt : Diary CCards DCards VCards CCards DCards VCards  VCards VCards VCards \n",
    "#Create a dictionary myWallet by reading the elements and get() method. \n",
    "          #myWallet={'Diary': 1, 'CCards': 2, 'DCards': 2, 'VCards': 5}\n",
    "\n",
    "with open('Particular.txt','r') as file:\n",
    "    data = file.read().split()\n",
    "\n",
    "myWallet = {}\n",
    "for item in data:\n",
    "    myWallet[item] = myWallet.get(item, 0) + 1\n",
    "\n",
    "print(\"myWallet = \",myWallet)"
   ]
  },
  {
   "cell_type": "code",
   "execution_count": 2,
   "metadata": {},
   "outputs": [
    {
     "name": "stdout",
     "output_type": "stream",
     "text": [
      "After adding a new credit card:  {'Diary': 1, 'CCards': 3, 'DCards': 2, 'VCards': 5}\n"
     ]
    }
   ],
   "source": [
    "#1: A new credit card is added in myWallet \n",
    "\n",
    "myWallet['CCards'] += 1\n",
    "print(\"After adding a new credit card: \",myWallet)"
   ]
  },
  {
   "cell_type": "code",
   "execution_count": 4,
   "metadata": {},
   "outputs": [
    {
     "name": "stdout",
     "output_type": "stream",
     "text": [
      "Is 'Photograph' available in my wallet? False\n"
     ]
    }
   ],
   "source": [
    "#2: Check that any Photograph available in myWallet or not in True or False output.\n",
    "\n",
    "print(\"Is 'Photograph' available in my wallet?\", 'Photograph' in myWallet)"
   ]
  },
  {
   "cell_type": "code",
   "execution_count": 12,
   "metadata": {},
   "outputs": [
    {
     "name": "stdout",
     "output_type": "stream",
     "text": [
      "After adding four Photographs:  {'Diary': 1, 'CCards': 3, 'DCards': 2, 'VCards': 5, 'Photograph': 4}\n"
     ]
    }
   ],
   "source": [
    "#3: Add four Photographs in myWallet. \n",
    "\n",
    "myWallet['Photograph']=myWallet.get('Photograph',0) + 4\n",
    "print(\"After adding four Photographs: \",myWallet)"
   ]
  },
  {
   "cell_type": "code",
   "execution_count": 15,
   "metadata": {},
   "outputs": [
    {
     "name": "stdout",
     "output_type": "stream",
     "text": [
      "After removing Photographs using del():  {'Diary': 1, 'CCards': 3, 'DCards': 2, 'VCards': 5}\n"
     ]
    }
   ],
   "source": [
    "#4.1: Remove Photographs using del() method.\n",
    "\n",
    "if 'Photograph' in myWallet:\n",
    "    del myWallet['Photograph']\n",
    "print(\"After removing Photographs using del(): \",myWallet)\n"
   ]
  },
  {
   "cell_type": "code",
   "execution_count": 17,
   "metadata": {},
   "outputs": [
    {
     "name": "stdout",
     "output_type": "stream",
     "text": [
      "After removing Photographs using pop():  {'Diary': 1, 'CCards': 3, 'DCards': 2, 'VCards': 5}\n"
     ]
    }
   ],
   "source": [
    "#4.2: Remove Photographs using pop() method.\n",
    "\n",
    "myWallet['Photograph'] = 4\n",
    "myWallet.pop('Photograph',None)\n",
    "print(\"After removing Photographs using pop(): \",myWallet)"
   ]
  },
  {
   "cell_type": "code",
   "execution_count": 18,
   "metadata": {},
   "outputs": [
    {
     "name": "stdout",
     "output_type": "stream",
     "text": [
      "myWallet as tuple =  (('Diary', 1), ('CCards', 3), ('DCards', 2), ('VCards', 5))\n"
     ]
    }
   ],
   "source": [
    "#5: Represent the particulars of dictionary in the form of tuple.\n",
    "\n",
    "myWallet_tuple = tuple(myWallet.items())\n",
    "print(\"myWallet as tuple = \", myWallet_tuple)"
   ]
  },
  {
   "cell_type": "code",
   "execution_count": 19,
   "metadata": {},
   "outputs": [
    {
     "name": "stdout",
     "output_type": "stream",
     "text": [
      "Sorted myWallet =  {'CCards': 3, 'DCards': 2, 'Diary': 1, 'VCards': 5}\n"
     ]
    }
   ],
   "source": [
    "#6: Sort the item of myWallet in ascending order based on items.\n",
    "\n",
    "sort_myWallet = dict(sorted(myWallet.items()))\n",
    "print(\"Sorted myWallet = \", sort_myWallet)"
   ]
  },
  {
   "cell_type": "code",
   "execution_count": 20,
   "metadata": {},
   "outputs": [
    {
     "name": "stdout",
     "output_type": "stream",
     "text": [
      "Sorted myWallet by quantity =  {'Diary': 1, 'DCards': 2, 'CCards': 3, 'VCards': 5}\n"
     ]
    }
   ],
   "source": [
    "#7: Sort the items of myWallet in the ascending order based on item quantity\n",
    "\n",
    "sorted_myWallet = dict(sorted(myWallet.items(), key=lambda x: x[1]))\n",
    "print(\"Sorted myWallet by quantity = \", sorted_myWallet)"
   ]
  }
 ],
 "metadata": {
  "kernelspec": {
   "display_name": "Python 3",
   "language": "python",
   "name": "python3"
  },
  "language_info": {
   "codemirror_mode": {
    "name": "ipython",
    "version": 3
   },
   "file_extension": ".py",
   "mimetype": "text/x-python",
   "name": "python",
   "nbconvert_exporter": "python",
   "pygments_lexer": "ipython3",
   "version": "3.12.4"
  }
 },
 "nbformat": 4,
 "nbformat_minor": 2
}
