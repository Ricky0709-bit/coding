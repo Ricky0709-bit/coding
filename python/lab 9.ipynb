{
 "cells": [
  {
   "cell_type": "code",
   "execution_count": 27,
   "metadata": {},
   "outputs": [
    {
     "name": "stdout",
     "output_type": "stream",
     "text": [
      "Python is a high-level, general-purpose programming language. \n",
      "Its design philosophy emphasizes code readability with the use of significant indentation.\n",
      "Python is dynamically typed and garbage-collected. \n",
      "It supports multiple programming paradigms, including structured (particularly procedural), object-oriented and functional programming. \n",
      "It is often described as a \"batteries included\" language due to its comprehensive standard library.\n"
     ]
    }
   ],
   "source": [
    "#1: Program to read the contents from a text file and display the same on screen.\n",
    "def read(file_path):\n",
    "    with open(file_path, 'r') as file:\n",
    "        content = file.read()\n",
    "        print(content)\n",
    "\n",
    "read('Text.txt')"
   ]
  },
  {
   "cell_type": "code",
   "execution_count": 1,
   "metadata": {},
   "outputs": [
    {
     "name": "stdout",
     "output_type": "stream",
     "text": [
      "Number of lines: 5\n",
      "Number of words: 53\n",
      "Number of characters: 442\n"
     ]
    }
   ],
   "source": [
    "#2: Program to count the number of lines, words and characters from a text file.\n",
    "def count(file_path):\n",
    "    with open(file_path, 'r') as file:\n",
    "        lines = file.readlines()\n",
    "        n_lines = len(lines)\n",
    "        words = sum(len(line.split())for line in lines)\n",
    "        characters = sum(len(line) for line in lines)\n",
    "        print(f'Number of lines: {n_lines}')\n",
    "        print(f'Number of words: {words}')\n",
    "        print(f'Number of characters: {characters}')\n",
    "\n",
    "count('Text.txt')"
   ]
  },
  {
   "cell_type": "code",
   "execution_count": 2,
   "metadata": {},
   "outputs": [
    {
     "name": "stdout",
     "output_type": "stream",
     "text": [
      "Python is a high-level, general-purpose programming language. \n",
      "Its design philosophy emphasizes code readability with the use of significant indentation.\n",
      "Python is dynamically typed and garbage-collected. \n"
     ]
    }
   ],
   "source": [
    "#3: Program to read first n lines from a text file\n",
    "def first(file_path, n):\n",
    "    with open(file_path, 'r') as file:\n",
    "        for i in range(n):\n",
    "            print(file.readline(), end='')\n",
    "\n",
    "first('Text.txt', 3)"
   ]
  },
  {
   "cell_type": "code",
   "execution_count": 3,
   "metadata": {},
   "outputs": [
    {
     "name": "stdout",
     "output_type": "stream",
     "text": [
      "Length of the longest line: 137\n"
     ]
    }
   ],
   "source": [
    "#4: Program to read lines from a text file and find the length of the longest line.\n",
    "\n",
    "def longest_line(file_path):\n",
    "    with open(file_path, 'r') as file:\n",
    "        longest_line = max(file.readlines(), key=len)\n",
    "        print(f'Length of the longest line: {len(longest_line)}')\n",
    "    return longest_line\n",
    "\n",
    "longest_line = longest_line('Text.txt')"
   ]
  },
  {
   "cell_type": "code",
   "execution_count": 4,
   "metadata": {},
   "outputs": [
    {
     "name": "stdout",
     "output_type": "stream",
     "text": [
      "Python is dynamically typed and garbage-collected. \n",
      "It supports multiple programming paradigms, including structured (particularly procedural), object-oriented and functional programming. \n",
      "It is often described as a \"batteries included\" language due to its comprehensive standard library."
     ]
    }
   ],
   "source": [
    "#5: Program to read last n lines of a file.\n",
    "\n",
    "def last_lines(file_path, n):\n",
    "    with open(file_path, 'r') as file:\n",
    "        lines = file.readlines()\n",
    "        last_n_lines = lines[-n:]\n",
    "        for line in last_n_lines:\n",
    "            print(line, end='')\n",
    "\n",
    "last_lines('Text.txt', 3)"
   ]
  },
  {
   "cell_type": "code",
   "execution_count": 5,
   "metadata": {},
   "outputs": [
    {
     "name": "stdout",
     "output_type": "stream",
     "text": [
      "diary: 1\n",
      "ccards: 2\n",
      "dcards: 2\n",
      "vcards: 5\n"
     ]
    }
   ],
   "source": [
    "#6: Program to count the frequency of words in a file.\n",
    "def word_frequency(file_path):\n",
    "    with open(file_path, 'r') as file:\n",
    "        words = file.read().lower().split()\n",
    "        word_count = {}\n",
    "        for word in words:\n",
    "            word_count[word] = word_count.get(word, 0) + 1\n",
    "        \n",
    "    for word, count in word_count.items():\n",
    "        print(f'{word}: {count}')\n",
    "        \n",
    "word_frequency('Particular.txt')"
   ]
  },
  {
   "cell_type": "code",
   "execution_count": 6,
   "metadata": {},
   "outputs": [
    {
     "name": "stdout",
     "output_type": "stream",
     "text": [
      "Number of lines starting with \"It\": 3\n"
     ]
    }
   ],
   "source": [
    "#7: Program to count lines starting with a word\"It\"\n",
    "\n",
    "def start(file_path):\n",
    "    with open(file_path, 'r') as file:\n",
    "        lines = file.readlines()\n",
    "        count = sum(1 for line in lines if line.lower().startswith('it'))\n",
    "        print(f'Number of lines starting with \"It\": {count}')\n",
    "\n",
    "start('Text.txt')"
   ]
  },
  {
   "cell_type": "code",
   "execution_count": 7,
   "metadata": {},
   "outputs": [
    {
     "name": "stdout",
     "output_type": "stream",
     "text": [
      "Python is a highlevel generalpurpose programming language \n",
      "Its design philosophy emphasizes code readability with the use of significant indentation\n",
      "Python is dynamically typed and garbagecollected \n",
      "It supports multiple programming paradigms including structured particularly procedural objectoriented and functional programming \n",
      "It is often described as a batteries included language due to its comprehensive standard library\n"
     ]
    }
   ],
   "source": [
    "#8: Program to replaces all special characters by space\n",
    "\n",
    "def replace(file_path):\n",
    "    with open(file_path, 'r') as file:\n",
    "        content = file.read()\n",
    "        new_content = ''.join(e for e in content if e.isalnum() or e.isspace())\n",
    "        print(new_content)\n",
    "\n",
    "replace('Text.txt')"
   ]
  },
  {
   "cell_type": "code",
   "execution_count": 8,
   "metadata": {},
   "outputs": [
    {
     "name": "stdout",
     "output_type": "stream",
     "text": [
      "Number of occurrences of \"python\": 2\n"
     ]
    }
   ],
   "source": [
    "#9: Program to count occurrences of a word in a file\n",
    "\n",
    "def count_word(file_path, word):\n",
    "    with open(file_path, 'r') as file:\n",
    "        content = file.read().lower()\n",
    "        count = content.count(word.lower())\n",
    "        print(f'Number of occurrences of \"{word}\": {count}')\n",
    "\n",
    "count_word('Text.txt', 'python')"
   ]
  }
 ],
 "metadata": {
  "kernelspec": {
   "display_name": "Python 3",
   "language": "python",
   "name": "python3"
  },
  "language_info": {
   "codemirror_mode": {
    "name": "ipython",
    "version": 3
   },
   "file_extension": ".py",
   "mimetype": "text/x-python",
   "name": "python",
   "nbconvert_exporter": "python",
   "pygments_lexer": "ipython3",
   "version": "3.12.4"
  }
 },
 "nbformat": 4,
 "nbformat_minor": 2
}
