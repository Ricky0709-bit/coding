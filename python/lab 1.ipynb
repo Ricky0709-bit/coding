{
 "cells": [
  {
   "cell_type": "code",
   "execution_count": 3,
   "metadata": {},
   "outputs": [
    {
     "name": "stdout",
     "output_type": "stream",
     "text": [
      "Addition =  10.0\n",
      "Sustraction =  4.0\n",
      "Multiplication =  21.0\n",
      "Division =  2.3333333333333335\n",
      "Modulus =  1.0\n",
      "Rest to =  343.0\n",
      "Double divide =  2.0\n"
     ]
    }
   ],
   "source": [
    "# 1: Accept numbers from a user  \n",
    "n1=float(input(\"Enter 1st no:\"))\n",
    "n2=float(input(\"Enter 2nd no:\"))\n",
    "print(\"Addition = \",n1+n2)\n",
    "print(\"Sustraction = \",n1-n2)\n",
    "print(\"Multiplication = \",n1*n2)\n",
    "print(\"Division = \",n1/n2)\n",
    "print(\"Modulus = \",n1%n2)\n",
    "print(\"Rest to = \",n1**n2)\n",
    "print(\"Double divide = \",n1//n2)"
   ]
  },
  {
   "cell_type": "code",
   "execution_count": 6,
   "metadata": {},
   "outputs": [
    {
     "name": "stdout",
     "output_type": "stream",
     "text": [
      "Name**Is**James\n"
     ]
    }
   ],
   "source": [
    "# 2: Display three string “Name”, “Is”, “James” as “Name**Is**James”\n",
    "s1=str(input(\"1st name:\"))\n",
    "s2=str(input(\"Middle name:\"))\n",
    "s3=str(input(\"last name:\"))\n",
    "print(s1+\"**\"+s2+\"**\"+s3)"
   ]
  },
  {
   "cell_type": "code",
   "execution_count": 8,
   "metadata": {},
   "outputs": [
    {
     "name": "stdout",
     "output_type": "stream",
     "text": [
      "binary representation of 57 is: 0b111001\n",
      "octal representation of 57 is: 0o71\n",
      "hexadecimal representation of 57 is: 0x39\n"
     ]
    }
   ],
   "source": [
    "# 3: Convert Decimal number to octal using print() output formatting \n",
    "n=int(input(\"enter a decimal no:\"))\n",
    "print(\"binary representation of\",n,\"is:\",bin(n))\n",
    "print(\"octal representation of\",n,\"is:\",oct(n))\n",
    "print(\"hexadecimal representation of\",n,\"is:\",hex(n))"
   ]
  },
  {
   "cell_type": "code",
   "execution_count": 9,
   "metadata": {},
   "outputs": [
    {
     "name": "stdout",
     "output_type": "stream",
     "text": [
      "Round_off: 54.67\n"
     ]
    }
   ],
   "source": [
    "# 4: Display float number with 2 decimal places using print() \n",
    "n= float(input(\"enter a no:\"))\n",
    "print(\"Round_off:\",format(n,\".2f\"))"
   ]
  },
  {
   "cell_type": "code",
   "execution_count": 10,
   "metadata": {},
   "outputs": [
    {
     "name": "stdout",
     "output_type": "stream",
     "text": [
      "<class 'int'>\n",
      "65.0\n",
      "(65+0j)\n",
      "\n",
      "\n",
      "<class 'float'>\n",
      "78\n",
      "(78.543+0j)\n",
      "\n",
      "\n"
     ]
    }
   ],
   "source": [
    "# 6: Implicit Type Conversion \n",
    "x=65\n",
    "print(type(x))\n",
    "print(float(x))\n",
    "print(complex(x))\n",
    "print(\"\\n\")\n",
    "\n",
    "y=78.543\n",
    "print(type(y))\n",
    "print(int(y))\n",
    "print(complex(y))\n",
    "print(\"\\n\")"
   ]
  },
  {
   "cell_type": "code",
   "execution_count": 12,
   "metadata": {},
   "outputs": [
    {
     "name": "stdout",
     "output_type": "stream",
     "text": [
      "Students:Python\n",
      "hi\n"
     ]
    }
   ],
   "source": [
    "# 7: Create a variable inside a function, with the same name as the global variable \n",
    "a=\"hi\"\n",
    "def clgnm():\n",
    "    a=\"Python\"\n",
    "    print(\"Students:\"+a)\n",
    "    \n",
    "clgnm()\n",
    "print(a)"
   ]
  },
  {
   "cell_type": "code",
   "execution_count": 1,
   "metadata": {},
   "outputs": [
    {
     "name": "stdout",
     "output_type": "stream",
     "text": [
      "Before Swapping:\n",
      "a = rc\n",
      "b = hc\n",
      "\n",
      "After Swapping:\n",
      "a = hc\n",
      "b = rc\n"
     ]
    }
   ],
   "source": [
    "# 8: Swap Two Numbers\n",
    "a=str(input(\"enter first no:\"))\n",
    "b=str(input(\"enter second no:\"))\n",
    "print(\"Before Swapping:\")\n",
    "print(\"a =\",a)\n",
    "print(\"b =\",b)\n",
    "\n",
    "(a,b)=(b,a)\n",
    "print(\"\\nAfter Swapping:\")\n",
    "print(\"a =\",a)\n",
    "print(\"b =\",b)"
   ]
  },
  {
   "cell_type": "code",
   "execution_count": 3,
   "metadata": {},
   "outputs": [
    {
     "name": "stdout",
     "output_type": "stream",
     "text": [
      "Area of cirlce: 28.26\n",
      "Area of triangle: 14.0\n"
     ]
    }
   ],
   "source": [
    "# 9: Calculate the Area of a circle and triangle\n",
    "r=float(input(\"Enter radius of cirlce:\"))\n",
    "print(\"Area of cirlce:\",(3.14*r**2))\n",
    "\n",
    "b=float(input(\"Enter base of triangle:\"))\n",
    "h=float(input(\"Enter height of triangle:\"))\n",
    "print(\"Area of triangle:\",(0.5*b*h))"
   ]
  },
  {
   "cell_type": "code",
   "execution_count": 4,
   "metadata": {},
   "outputs": [
    {
     "name": "stdout",
     "output_type": "stream",
     "text": [
      "2024-08-15 16:00:52.476875\n",
      "2024\n",
      "8\n",
      "15\n",
      "16\n",
      "0\n",
      "52\n",
      "476875\n"
     ]
    }
   ],
   "source": [
    "# 10: To display the current date and time \n",
    "import datetime\n",
    "#can also use .now()/today().date()/today().time()\n",
    "current_date=datetime.datetime.today()\n",
    "print(current_date)\n",
    "print(current_date.year)\n",
    "print(current_date.month)\n",
    "print(current_date.day)\n",
    "print(current_date.hour)\n",
    "print(current_date.minute)\n",
    "print(current_date.second)\n",
    "print(current_date.microsecond)"
   ]
  }
 ],
 "metadata": {
  "kernelspec": {
   "display_name": "Python 3",
   "language": "python",
   "name": "python3"
  },
  "language_info": {
   "codemirror_mode": {
    "name": "ipython",
    "version": 3
   },
   "file_extension": ".py",
   "mimetype": "text/x-python",
   "name": "python",
   "nbconvert_exporter": "python",
   "pygments_lexer": "ipython3",
   "version": "3.12.4"
  }
 },
 "nbformat": 4,
 "nbformat_minor": 2
}
