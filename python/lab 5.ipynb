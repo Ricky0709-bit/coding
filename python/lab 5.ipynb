{
 "cells": [
  {
   "cell_type": "code",
   "execution_count": 2,
   "metadata": {},
   "outputs": [
    {
     "name": "stdout",
     "output_type": "stream",
     "text": [
      "[10, 40, 50, 20, 30, 10, 40, 10, 60]\n"
     ]
    }
   ],
   "source": [
    "#1: Append integer 60 into myList \n",
    "myList= [10, 40, 50, 20, 30,10,40,10]\n",
    "myList.append(60)\n",
    "print(myList)"
   ]
  },
  {
   "cell_type": "code",
   "execution_count": 6,
   "metadata": {},
   "outputs": [
    {
     "name": "stdout",
     "output_type": "stream",
     "text": [
      "[10, 70, 40, 50, 20, 30, 10, 40, 10]\n"
     ]
    }
   ],
   "source": [
    "#2: Insert 70 on 2nd Position \n",
    "myList=[10, 40, 50, 20, 30,10,40,10] \n",
    "myList.insert(1,70)\n",
    "print(myList)"
   ]
  },
  {
   "cell_type": "code",
   "execution_count": 7,
   "metadata": {},
   "outputs": [
    {
     "name": "stdout",
     "output_type": "stream",
     "text": [
      "Sorted list in ascending order:  [10, 10, 10, 20, 30, 40, 40, 50]\n",
      "Sorted list in descending order:  [50, 40, 40, 30, 20, 10, 10, 10]\n"
     ]
    }
   ],
   "source": [
    "#3: Sort myList in ascending and descending order.\n",
    "myList=[10, 40, 50, 20, 30,10,40,10]\n",
    "myList.sort()\n",
    "print(\"Sorted list in ascending order: \", myList)\n",
    "myList.sort(reverse=True)\n",
    "print(\"Sorted list in descending order: \", myList) "
   ]
  },
  {
   "cell_type": "code",
   "execution_count": 9,
   "metadata": {},
   "outputs": [
    {
     "name": "stdout",
     "output_type": "stream",
     "text": [
      "saw 3\n",
      "small 5\n",
      "foxes 5\n",
      "he 2\n",
      "six 3\n",
      "Sorted list in ascending order by length:  ['he', 'saw', 'six', 'small', 'foxes']\n",
      "Sorted list in descending order by length:  ['small', 'foxes', 'saw', 'six', 'he']\n"
     ]
    }
   ],
   "source": [
    "#4: Sort yourList in ascending and descending according to length of strings.\n",
    "yourList = ['saw','small','foxes','he','six'] \n",
    "def sort(strings):\n",
    "    for i in strings:\n",
    "        print(i, len(i))\n",
    "    strings.sort(key=len)\n",
    "    print(\"Sorted list in ascending order by length: \", strings)\n",
    "    strings.sort(key=len, reverse=True)\n",
    "    print(\"Sorted list in descending order by length: \", strings)\n",
    "\n",
    "sort(yourList)"
   ]
  },
  {
   "cell_type": "code",
   "execution_count": 10,
   "metadata": {},
   "outputs": [
    {
     "name": "stdout",
     "output_type": "stream",
     "text": [
      "['saw', 'small', 'foxes', 'he', 'six', 3.5]\n"
     ]
    }
   ],
   "source": [
    "#5: Add float value 3.5 into yourList. \n",
    "yourList = ['saw','small','foxes','he','six']\n",
    "yourList.append(3.5)\n",
    "print(yourList)"
   ]
  },
  {
   "cell_type": "code",
   "execution_count": 18,
   "metadata": {},
   "outputs": [
    {
     "name": "stdout",
     "output_type": "stream",
     "text": [
      "['saw', 'small', 'foxes', 'he', 'six', 3.5]\n",
      "['saw', 'small', 'foxes', 'he', 'six']\n"
     ]
    }
   ],
   "source": [
    "#6: Use POP and remove method to remove 3.5 \n",
    "yourList=['saw', 'small', 'foxes', 'he', 'six', 3.5, 3.5]\n",
    "yourList.remove(3.5)\n",
    "print(yourList)\n",
    "yourList.pop(5)\n",
    "print(yourList)"
   ]
  },
  {
   "cell_type": "code",
   "execution_count": 20,
   "metadata": {},
   "outputs": [
    {
     "name": "stdout",
     "output_type": "stream",
     "text": [
      "[10, 40, 50, 20, 30, 10, 40, 10, 'saw', 'small', 'foxes', 'he', 'six']\n"
     ]
    }
   ],
   "source": [
    "#7: Create ourList by merging myList and yourList \n",
    "myList= [10, 40, 50, 20, 30,10,40,10] \n",
    "yourList = ['saw','small','foxes','he','six'] \n",
    "\n",
    "ourlist = myList + yourList\n",
    "print(ourlist)"
   ]
  },
  {
   "cell_type": "code",
   "execution_count": 22,
   "metadata": {},
   "outputs": [
    {
     "name": "stdout",
     "output_type": "stream",
     "text": [
      "Sum: 210\n"
     ]
    }
   ],
   "source": [
    "#8: Find sum of elements in mylist.\n",
    "myList=[10, 40, 50, 20, 30,10,40,10] \n",
    "print(\"Sum:\",sum(myList))"
   ]
  },
  {
   "cell_type": "code",
   "execution_count": 27,
   "metadata": {},
   "outputs": [
    {
     "name": "stdout",
     "output_type": "stream",
     "text": [
      "Smallest element: 10\n",
      "Largest element: 50\n",
      "Second largest element: 40\n"
     ]
    }
   ],
   "source": [
    "#9: Find smallest, largest and second largest number in a myList.\n",
    "myList= [10, 40, 50, 20, 30,10,40,10] \n",
    "print(\"Smallest element:\",min(myList))\n",
    "print(\"Largest element:\",max(myList))\n",
    "sl=sorted(myList)\n",
    "seclarge=sl[-2]\n",
    "print(\"Second largest element:\",seclarge)\n"
   ]
  },
  {
   "cell_type": "code",
   "execution_count": 30,
   "metadata": {},
   "outputs": [
    {
     "name": "stdout",
     "output_type": "stream",
     "text": [
      "10 : 3\n",
      "40 : 2\n",
      "50 : 1\n",
      "20 : 1\n",
      "30 : 1\n"
     ]
    }
   ],
   "source": [
    "#10: Count occurrences of all element in a list \n",
    "myList= [10, 40, 50, 20, 30, 10, 40, 10]\n",
    "x=[]\n",
    "for i in myList:\n",
    "    if i not in x:\n",
    "        x.append(i)\n",
    "        print(i, \":\", myList.count(i))"
   ]
  },
  {
   "cell_type": "code",
   "execution_count": 49,
   "metadata": {},
   "outputs": [
    {
     "name": "stdout",
     "output_type": "stream",
     "text": [
      "saw 3\n",
      "small 5\n",
      "foxes 5\n",
      "he 2\n",
      "six 3\n",
      "Sorted list in ascending order by length:  ['he', 'saw', 'six', 'small', 'foxes']\n",
      "a: ['saw', 'six', 'small']\n",
      "b: ['six', 'small', 'foxes']\n",
      "c: ['he', 'saw'] and ['small', 'foxes']\n",
      "d: ['he', 'six', 'foxes'] and ['saw', 'small']\n"
     ]
    }
   ],
   "source": [
    "#11: Perform Data slicing to display string elements from ascending sorted yourList as: - \n",
    "#a. Display  -  ‘saw’,’six’,’small’ \n",
    "#b. Use negative indices to display - . ’six’,’small’, ‘foxes’ \n",
    "#c. All elements after mid of the list (In both directions). \n",
    "#d. Alternate elements in both direction middle of list. \n",
    "\n",
    "yourList = ['saw','small','foxes','he','six'] \n",
    "def sort(strings):\n",
    "    for i in strings:\n",
    "        print(i, len(i))\n",
    "    strings.sort(key=len)\n",
    "    print(\"Sorted list in ascending order by length: \", strings)\n",
    "\n",
    "sort(yourList)\n",
    "\n",
    "print(\"a:\",yourList[1:4])\n",
    "print(\"b:\",yourList[-3:])\n",
    "print(\"c:\",yourList[0:2],\"and\",yourList[-2:])\n",
    "print(\"d:\",yourList[::2],\"and\",yourList[1::2])"
   ]
  }
 ],
 "metadata": {
  "kernelspec": {
   "display_name": "Python 3",
   "language": "python",
   "name": "python3"
  },
  "language_info": {
   "codemirror_mode": {
    "name": "ipython",
    "version": 3
   },
   "file_extension": ".py",
   "mimetype": "text/x-python",
   "name": "python",
   "nbconvert_exporter": "python",
   "pygments_lexer": "ipython3",
   "version": "3.12.4"
  }
 },
 "nbformat": 4,
 "nbformat_minor": 2
}
