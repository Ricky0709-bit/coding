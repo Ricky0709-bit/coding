{
 "cells": [
  {
   "cell_type": "code",
   "execution_count": 1,
   "metadata": {},
   "outputs": [
    {
     "name": "stdout",
     "output_type": "stream",
     "text": [
      "5\n"
     ]
    }
   ],
   "source": [
    "#1: AND Gate\n",
    "n1=int(input(\"Enter 1st no:\"))\n",
    "n2=int(input(\"Enter 2nd no:\"))\n",
    "n1&=n2\n",
    "print(n1)\n"
   ]
  },
  {
   "cell_type": "code",
   "execution_count": 2,
   "metadata": {},
   "outputs": [
    {
     "name": "stdout",
     "output_type": "stream",
     "text": [
      "7\n"
     ]
    }
   ],
   "source": [
    "#1: OR Gate\n",
    "n1=int(input(\"Enter 1st no:\"))\n",
    "n2=int(input(\"Enter 2nd no:\"))\n",
    "n1|=n2\n",
    "print(n1)"
   ]
  },
  {
   "cell_type": "code",
   "execution_count": 3,
   "metadata": {
    "notebookRunGroups": {
     "groupValue": "1"
    }
   },
   "outputs": [
    {
     "name": "stdout",
     "output_type": "stream",
     "text": [
      "640\n"
     ]
    }
   ],
   "source": [
    "#1: Left shift\n",
    "n1=int(input(\"Enter 1st no:\"))\n",
    "n2=int(input(\"Enter 2nd no:\"))\n",
    "n1<<=n2\n",
    "print(n1)"
   ]
  },
  {
   "cell_type": "code",
   "execution_count": 4,
   "metadata": {},
   "outputs": [
    {
     "name": "stdout",
     "output_type": "stream",
     "text": [
      "0\n"
     ]
    }
   ],
   "source": [
    "#1: Right shift\n",
    "n1=int(input(\"Enter 1st no:\"))\n",
    "n2=int(input(\"Enter 2nd no:\"))\n",
    "n1>>=n2\n",
    "print(n1)"
   ]
  },
  {
   "cell_type": "code",
   "execution_count": 5,
   "metadata": {},
   "outputs": [
    {
     "name": "stdout",
     "output_type": "stream",
     "text": [
      "2\n"
     ]
    }
   ],
   "source": [
    "#1: XOR Gate\n",
    "n1=int(input(\"Enter 1st no:\"))\n",
    "n2=int(input(\"Enter 2nd no:\"))\n",
    "n1^=n2\n",
    "print(n1)"
   ]
  },
  {
   "cell_type": "code",
   "execution_count": 6,
   "metadata": {},
   "outputs": [
    {
     "name": "stdout",
     "output_type": "stream",
     "text": [
      "False\n",
      "True\n",
      "True\n",
      "False\n",
      "True\n",
      "False\n"
     ]
    }
   ],
   "source": [
    "#1: Comparison operators\n",
    "n1=int(input(\"Enter 1st no:\"))\n",
    "n2=int(input(\"Enter 2nd no:\"))\n",
    "print(n1==n2)\n",
    "print(n1!=n2)\n",
    "print(n1<n2)\n",
    "print(n1>n2)\n",
    "print(n1<=n2)\n",
    "print(n1>=n2)"
   ]
  },
  {
   "cell_type": "code",
   "execution_count": 7,
   "metadata": {},
   "outputs": [
    {
     "name": "stdout",
     "output_type": "stream",
     "text": [
      "False\n",
      "True\n",
      "False\n"
     ]
    }
   ],
   "source": [
    "#1: Logical Operators\n",
    "n1=int(input(\"Enter 1st no:\"))\n",
    "n2=int(input(\"Enter 2nd no:\"))\n",
    "print(n1<n2 and n1>n2)\n",
    "print(n1<n2 or n1>n2)\n",
    "print(not(n1 and n2))\n"
   ]
  },
  {
   "cell_type": "code",
   "execution_count": 8,
   "metadata": {},
   "outputs": [
    {
     "name": "stdout",
     "output_type": "stream",
     "text": [
      "7 is greater\n"
     ]
    }
   ],
   "source": [
    "#2: find maximum of two numbers\n",
    "\n",
    "n1=int(input(\"Enter 1st no:\"))\n",
    "n2=int(input(\"Enter 2nd no:\"))\n",
    "\n",
    "def max(a,b):\n",
    "\n",
    "    if a>b :\n",
    "       print(f\"{a} is greater\")\n",
    "    else:\n",
    "       print(f\"{b} is greater\")\n",
    "       \n",
    "max(n1,n2)"
   ]
  },
  {
   "cell_type": "code",
   "execution_count": 9,
   "metadata": {},
   "outputs": [
    {
     "name": "stdout",
     "output_type": "stream",
     "text": [
      "7 is greater\n"
     ]
    }
   ],
   "source": [
    "#find maximum of three numbers\n",
    "\n",
    "n1=int(input(\"Enter 1st no:\"))\n",
    "n2=int(input(\"Enter 2nd no:\"))\n",
    "n3=int(input(\"Enter 3rd no:\"))\n",
    "\n",
    "def max(a,b,c):\n",
    "\n",
    "    if a>b & a>c :\n",
    "       print(f\"{a} is greater\")\n",
    "    elif b>a & b>c:\n",
    "       print(f\"{b} is greater\")\n",
    "    else:\n",
    "       print(f\"{c} is greater\")\n",
    "       \n",
    "max(n1,n2,n3)"
   ]
  },
  {
   "cell_type": "code",
   "execution_count": 10,
   "metadata": {},
   "outputs": [
    {
     "name": "stdout",
     "output_type": "stream",
     "text": [
      "7 is odd\n"
     ]
    }
   ],
   "source": [
    "#3: check is no. is even or odd\n",
    "\n",
    "n=int(input(\"Enter 1st no:\"))\n",
    "\n",
    "\n",
    "def eveodd(x):\n",
    "\n",
    "    if  x%2 == 0:\n",
    "       print(f\"{x} is even\")\n",
    "    else:\n",
    "       print(f\"{x} is odd\")\n",
    "       \n",
    "eveodd(n)"
   ]
  },
  {
   "cell_type": "code",
   "execution_count": 11,
   "metadata": {},
   "outputs": [
    {
     "name": "stdout",
     "output_type": "stream",
     "text": [
      "1\n",
      "Two\n",
      "3\n",
      "Four\n",
      "5\n",
      "Six\n",
      "7\n"
     ]
    }
   ],
   "source": [
    "#For loop with break,continue and pass \n",
    "for i in range(1,10):\n",
    "   if i==2:\n",
    "      continue\n",
    "   if i==3:\n",
    "      print(\"Two\")\n",
    "      pass\n",
    "   \n",
    "   if i==4:\n",
    "      continue\n",
    "   \n",
    "   if i==5:\n",
    "      print(\"Four\")\n",
    "      pass#continue,break\n",
    "   \n",
    "   if i==6:\n",
    "      continue\n",
    "   if i==7:\n",
    "      print(\"Six\")\n",
    "      pass\n",
    "   print(i)\n",
    "   \n",
    "   if i==7:\n",
    "      break\n",
    "   \n",
    "    \n",
    "       \n",
    "         \n"
   ]
  },
  {
   "cell_type": "code",
   "execution_count": 1,
   "metadata": {},
   "outputs": [
    {
     "name": "stdout",
     "output_type": "stream",
     "text": [
      "4\n"
     ]
    }
   ],
   "source": [
    "#4: count the no digits in a num\n",
    "n=int(input(\"Enter a number:\"))\n",
    "count=0\n",
    "\n",
    "while n>0:\n",
    "    n=n//10\n",
    "    count+=1\n",
    "print(count)\n",
    "    "
   ]
  },
  {
   "cell_type": "code",
   "execution_count": 2,
   "metadata": {},
   "outputs": [
    {
     "name": "stdout",
     "output_type": "stream",
     "text": [
      "Grade ='A+'\n"
     ]
    }
   ],
   "source": [
    "#5: determine the grade of a student based on their score\n",
    "s1=int(input(\"Enter 1st subject marks:\"))\n",
    "s2=int(input(\"Enter 2nd subject marks:\"))\n",
    "s3=int(input(\"Enter 3rd subject marks:\"))\n",
    "s4=int(input(\"Enter 4th subject marks:\"))\n",
    "s5=int(input(\"Enter 5th subject marks:\"))\n",
    "\n",
    "score =int((s1+s2+s3+s4+s5)/5)\n",
    "def grade(score):\n",
    "    \n",
    "    if (91<=score):\n",
    "        print(\"Grade ='O'\")\n",
    "    elif (91>=score and 81<=score):\n",
    "        print(\"Grade ='A+'\")\n",
    "    elif (81>=score and 71<=score):\n",
    "        print(\"Grade ='A'\")\n",
    "    elif (61>=score and 71<=score):\n",
    "        print(\"Grade ='B'\")\n",
    "    elif (51>=score and 61<=score):\n",
    "        print(\"Grade ='C'\")\n",
    "    elif (41>=score and 51<=score):\n",
    "        print(\"Grade ='D'\")\n",
    "    else:\n",
    "        print(\"Fail! Try Again\")\n",
    "grade(score)"
   ]
  },
  {
   "cell_type": "code",
   "execution_count": 3,
   "metadata": {},
   "outputs": [
    {
     "name": "stdout",
     "output_type": "stream",
     "text": [
      "-10\n",
      "-9\n",
      "-8\n",
      "-7\n",
      "-6\n",
      "-5\n",
      "-4\n",
      "-3\n",
      "-2\n",
      "-1\n"
     ]
    }
   ],
   "source": [
    "#6: Display -10 to -1 using loops\n",
    "for i in range(-10, 0):\n",
    "    print(i) "
   ]
  },
  {
   "cell_type": "code",
   "execution_count": 4,
   "metadata": {},
   "outputs": [
    {
     "name": "stdout",
     "output_type": "stream",
     "text": [
      "1\n",
      "2\n",
      "3\n",
      "4\n",
      "5\n",
      "Done!\n"
     ]
    }
   ],
   "source": [
    "#7: Display done after execution of for loop\n",
    "n=int(input(\"Enter a no:\"))\n",
    "for i in range(1,n+1):\n",
    " print(i)\n",
    "else:   \n",
    " print(\"Done!\")\n"
   ]
  },
  {
   "cell_type": "code",
   "execution_count": 5,
   "metadata": {},
   "outputs": [
    {
     "name": "stdout",
     "output_type": "stream",
     "text": [
      "11 is a prime number.\n"
     ]
    }
   ],
   "source": [
    "#8: Display prime numbers\n",
    "def prime(n):\n",
    "    if n <= 1:\n",
    "        return False\n",
    "    if n == 2:\n",
    "        return True\n",
    "    if n % 2 == 0:\n",
    "        return False\n",
    "    for i in range(3, int(n**0.5) + 1, 2):\n",
    "        if n % i == 0:\n",
    "            return False\n",
    "    return True\n",
    "\n",
    "num = int(input(\"Enter a number: \"))\n",
    "if prime(num):\n",
    "    print(f\"{num} is a prime number.\")\n",
    "else:\n",
    "    print(f\"{num} is not a prime number.\")"
   ]
  },
  {
   "cell_type": "code",
   "execution_count": 6,
   "metadata": {},
   "outputs": [
    {
     "name": "stdout",
     "output_type": "stream",
     "text": [
      "0 1 1 2 3 5 8 "
     ]
    }
   ],
   "source": [
    "#9: fibonacci series upto 10\n",
    "a,b = 0,1\n",
    "while a<=10:\n",
    "        print(a,end=\" \")\n",
    "        a,b = b,a+b\n",
    "        \n",
    "    \n",
    "    "
   ]
  },
  {
   "cell_type": "code",
   "execution_count": 7,
   "metadata": {},
   "outputs": [
    {
     "name": "stdout",
     "output_type": "stream",
     "text": [
      "Factorial of 7 is 5040\n"
     ]
    }
   ],
   "source": [
    "#10: factorial\n",
    "def fact(n):\n",
    "    if n == 0 or n == 1:\n",
    "       return 1\n",
    "    else:\n",
    "       return n*fact(n-1)\n",
    "\n",
    "n=int(input(\"Enter a no:\"))\n",
    "print(\"Factorial of\",n,\"is\",fact(n))"
   ]
  },
  {
   "cell_type": "code",
   "execution_count": 8,
   "metadata": {},
   "outputs": [
    {
     "name": "stdout",
     "output_type": "stream",
     "text": [
      "Reverse of 9876 is 6789\n"
     ]
    }
   ],
   "source": [
    "#11: reverse of integer no.\n",
    "def rev(n):\n",
    "    r = 0\n",
    "    while n > 0:\n",
    "        val = n%10\n",
    "        r = r * 10 + val\n",
    "        n = n//10\n",
    "    return r\n",
    "n=int(input(\"Enter a no.\"))\n",
    "print(f\"Reverse of {n} is {rev(n)}\")\n",
    "    "
   ]
  },
  {
   "cell_type": "code",
   "execution_count": 9,
   "metadata": {},
   "outputs": [
    {
     "name": "stdout",
     "output_type": "stream",
     "text": [
      "9876\n"
     ]
    }
   ],
   "source": [
    "#11: reverse of integer no.\n",
    "def rev(n):\n",
    "    return  int(str(n)[::-1])\n",
    "\n",
    "n=int(input(\"Enter a no.\"))\n",
    "res = rev(n)\n",
    "print(res)"
   ]
  },
  {
   "cell_type": "code",
   "execution_count": 1,
   "metadata": {},
   "outputs": [
    {
     "name": "stdout",
     "output_type": "stream",
     "text": [
      "2\n",
      "4\n",
      "6\n",
      "8\n",
      "10\n",
      "12\n",
      "14\n"
     ]
    }
   ],
   "source": [
    "#12: Use a loop to display elements from a given list present at odd index positions \n",
    "n = [1,2,3,4,5,6,7,8,9,10,11,12,13,14,15]\n",
    "\n",
    "for i in range(1,len(n),2):\n",
    "        print(n[i])\n",
    "        "
   ]
  },
  {
   "cell_type": "code",
   "execution_count": 2,
   "metadata": {},
   "outputs": [
    {
     "name": "stdout",
     "output_type": "stream",
     "text": [
      "55\n"
     ]
    }
   ],
   "source": [
    "#13: sum of series upto 10\n",
    "def series(n):\n",
    "    sum = 0\n",
    "    for i in range(1,n+1):\n",
    "       sum +=i\n",
    "    return sum\n",
    "       \n",
    "n=int(input(\"Enter the limit of series:\"))\n",
    "print(series(n))"
   ]
  },
  {
   "cell_type": "code",
   "execution_count": 3,
   "metadata": {},
   "outputs": [
    {
     "name": "stdout",
     "output_type": "stream",
     "text": [
      "1\n",
      "8\n",
      "27\n",
      "64\n",
      "125\n",
      "216\n",
      "343\n",
      "512\n",
      "729\n",
      "1000\n",
      "None\n"
     ]
    }
   ],
   "source": [
    "#14: calculate the cube of all no. from 1 to a given no.\n",
    "def cube(n):\n",
    "    for i in range(1,n+1):\n",
    "        print(i**3)\n",
    "\n",
    "n=int(input(\"Enter the last no:\"))\n",
    "print(cube(n))\n",
    "        \n",
    "\n",
    "        "
   ]
  }
 ],
 "metadata": {
  "kernelspec": {
   "display_name": "Python 3",
   "language": "python",
   "name": "python3"
  },
  "language_info": {
   "codemirror_mode": {
    "name": "ipython",
    "version": 3
   },
   "file_extension": ".py",
   "mimetype": "text/x-python",
   "name": "python",
   "nbconvert_exporter": "python",
   "pygments_lexer": "ipython3",
   "version": "3.12.4"
  }
 },
 "nbformat": 4,
 "nbformat_minor": 2
}
