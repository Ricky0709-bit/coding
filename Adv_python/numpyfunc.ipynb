{
 "cells": [
  {
   "cell_type": "markdown",
   "metadata": {},
   "source": [
    "## Numpy Fucntions"
   ]
  },
  {
   "cell_type": "code",
   "execution_count": 2,
   "metadata": {},
   "outputs": [],
   "source": [
    "import numpy as np"
   ]
  },
  {
   "cell_type": "code",
   "execution_count": 3,
   "metadata": {},
   "outputs": [
    {
     "data": {
      "text/plain": [
       "array([1, 2, 3, 4, 5])"
      ]
     },
     "execution_count": 3,
     "metadata": {},
     "output_type": "execute_result"
    }
   ],
   "source": [
    "#1. 1-D Array\n",
    "arr = np.array([1,2,3,4,5])\n",
    "arr"
   ]
  },
  {
   "cell_type": "code",
   "execution_count": 5,
   "metadata": {},
   "outputs": [
    {
     "data": {
      "text/plain": [
       "array([[1, 3, 7],\n",
       "       [2, 4, 6]])"
      ]
     },
     "execution_count": 5,
     "metadata": {},
     "output_type": "execute_result"
    }
   ],
   "source": [
    "#2. 2-D Array\n",
    "arr = np.array([[1,3,7],[2,4,6]])\n",
    "arr "
   ]
  },
  {
   "cell_type": "code",
   "execution_count": 6,
   "metadata": {},
   "outputs": [
    {
     "name": "stdout",
     "output_type": "stream",
     "text": [
      "7\n"
     ]
    }
   ],
   "source": [
    "#3. Array Indexing\n",
    "arr = np.array([1,3,5,7,9])\n",
    "print(arr[3])"
   ]
  },
  {
   "cell_type": "code",
   "execution_count": 7,
   "metadata": {},
   "outputs": [
    {
     "name": "stdout",
     "output_type": "stream",
     "text": [
      "1st SLice [3 5 7]\n",
      "2nd SLice [9]\n",
      "3rd SLice [1 3 5 7]\n",
      "4th SLice [5 7]\n"
     ]
    }
   ],
   "source": [
    "#4. Array Slicing\n",
    "arr = np.array([1,3,5,7,9])\n",
    "print(\"1st SLice\",arr[1:4])\n",
    "print(\"2nd SLice\",arr[4:])\n",
    "print(\"3rd SLice\",arr[:4])\n",
    "print(\"4th SLice\",arr[-3:-1])"
   ]
  },
  {
   "cell_type": "code",
   "execution_count": 8,
   "metadata": {},
   "outputs": [
    {
     "name": "stdout",
     "output_type": "stream",
     "text": [
      "int64\n"
     ]
    }
   ],
   "source": [
    "#5. Array with data type\n",
    "print(arr.dtype)"
   ]
  },
  {
   "cell_type": "code",
   "execution_count": 10,
   "metadata": {},
   "outputs": [
    {
     "data": {
      "text/plain": [
       "array([1, 3, 5, 7, 9])"
      ]
     },
     "execution_count": 10,
     "metadata": {},
     "output_type": "execute_result"
    }
   ],
   "source": [
    "#6. Copy\n",
    "x = arr.copy()\n",
    "x"
   ]
  },
  {
   "cell_type": "code",
   "execution_count": 12,
   "metadata": {},
   "outputs": [
    {
     "name": "stdout",
     "output_type": "stream",
     "text": [
      "arr: [1 3 5 7 9]\n",
      "x: [1 3 5 7 9]\n"
     ]
    }
   ],
   "source": [
    "#7. View\n",
    "arr = np.array([1,3,5,7,9])\n",
    "x = arr.view()\n",
    "print(\"arr:\",arr)\n",
    "print(\"x:\",x)"
   ]
  },
  {
   "cell_type": "code",
   "execution_count": 13,
   "metadata": {},
   "outputs": [
    {
     "name": "stdout",
     "output_type": "stream",
     "text": [
      "x: None\n",
      "y: [1 3 5 7 9]\n"
     ]
    }
   ],
   "source": [
    "#8. base()\n",
    "arr = np.array([1,3,5,7,9])\n",
    "x = arr.copy()\n",
    "y = arr.view()\n",
    "print(\"x:\",x.base)\n",
    "print(\"y:\",y.base)"
   ]
  },
  {
   "cell_type": "code",
   "execution_count": 14,
   "metadata": {},
   "outputs": [
    {
     "name": "stdout",
     "output_type": "stream",
     "text": [
      "Shape: (2, 4)\n"
     ]
    }
   ],
   "source": [
    "#9. shape()\n",
    "arr = np.array([[1,3,5,7],[2,4,6,8]])\n",
    "print(\"Shape:\",arr.shape)"
   ]
  },
  {
   "cell_type": "code",
   "execution_count": 18,
   "metadata": {},
   "outputs": [
    {
     "name": "stdout",
     "output_type": "stream",
     "text": [
      "Reshaped array: [[1 3]\n",
      " [5 7]]\n"
     ]
    }
   ],
   "source": [
    "#10. reshape()\n",
    "arr = np.array([1,3,5,7])\n",
    "newarr = arr.reshape(2,2)\n",
    "print(\"Reshaped array:\",newarr)"
   ]
  },
  {
   "cell_type": "code",
   "execution_count": 20,
   "metadata": {},
   "outputs": [
    {
     "name": "stdout",
     "output_type": "stream",
     "text": [
      "Flattened array: [1 3 5 7 2 4 6 8]\n"
     ]
    }
   ],
   "source": [
    "#11. Flattening of arrays\n",
    "arr = np.array([[1,3,5,7],[2,4,6,8]])\n",
    "newarr = arr.reshape(-1)\n",
    "print(\"Flattened array:\",newarr)"
   ]
  },
  {
   "cell_type": "code",
   "execution_count": 50,
   "metadata": {},
   "outputs": [
    {
     "name": "stdout",
     "output_type": "stream",
     "text": [
      "1 3 2 4 5 7 6 8 "
     ]
    },
    {
     "ename": "",
     "evalue": "",
     "output_type": "error",
     "traceback": [
      "\u001b[1;31mThe Kernel crashed while executing code in the current cell or a previous cell. \n",
      "\u001b[1;31mPlease review the code in the cell(s) to identify a possible cause of the failure. \n",
      "\u001b[1;31mClick <a href='https://aka.ms/vscodeJupyterKernelCrash'>here</a> for more info. \n",
      "\u001b[1;31mView Jupyter <a href='command:jupyter.viewOutput'>log</a> for further details."
     ]
    }
   ],
   "source": [
    "#12. Iterating array\n",
    "arr = np.array([[1,3],[2,4],[5,7],[6,8]])\n",
    "for x in np.nditer(arr):\n",
    "    print(x,end=' ')"
   ]
  },
  {
   "cell_type": "code",
   "execution_count": 22,
   "metadata": {},
   "outputs": [
    {
     "name": "stdout",
     "output_type": "stream",
     "text": [
      "(0,) 1\n",
      "(1,) 3\n",
      "(2,) 5\n",
      "(3,) 7\n",
      "(4,) 9\n"
     ]
    }
   ],
   "source": [
    "#13. ndenumerate()\n",
    "arr = np.array([1,3,5,7,9])\n",
    "for idx,x in np.ndenumerate(arr):\n",
    "    print(idx,x)"
   ]
  },
  {
   "cell_type": "code",
   "execution_count": 23,
   "metadata": {},
   "outputs": [
    {
     "name": "stdout",
     "output_type": "stream",
     "text": [
      "Concatenated array: [[1 3 2 4]\n",
      " [5 7 6 8]]\n"
     ]
    }
   ],
   "source": [
    "#14. concatenate()\n",
    "arr1 = np.array([[1,3],[5,7]])\n",
    "arr2 = np.array([[2,4],[6,8]])\n",
    "newarr = np.concatenate((arr1, arr2),axis=1)\n",
    "print(\"Concatenated array:\",newarr)\n"
   ]
  },
  {
   "cell_type": "code",
   "execution_count": 24,
   "metadata": {},
   "outputs": [
    {
     "name": "stdout",
     "output_type": "stream",
     "text": [
      "Stacking: [[[1 3]\n",
      "  [2 4]]\n",
      "\n",
      " [[5 7]\n",
      "  [6 8]]]\n",
      "Horizontal Stacking: [[1 3 2 4]\n",
      " [5 7 6 8]]\n",
      "Vertical Stacking: [[1 3]\n",
      " [5 7]\n",
      " [2 4]\n",
      " [6 8]]\n",
      "Height Stacking: [[[1 2]\n",
      "  [3 4]]\n",
      "\n",
      " [[5 6]\n",
      "  [7 8]]]\n"
     ]
    }
   ],
   "source": [
    "#15. Joining using stack\n",
    "arr1 = np.array([[1,3],[5,7]])\n",
    "arr2 = np.array([[2,4],[6,8]])\n",
    "newarr = np.stack((arr1, arr2),axis=1)\n",
    "rowarr = np.hstack((arr1,arr2))\n",
    "colarr = np.vstack((arr1,arr2))\n",
    "hgtarr = np.dstack((arr1,arr2))\n",
    "\n",
    "print(\"Stacking:\",newarr)\n",
    "print(\"Horizontal Stacking:\",rowarr)\n",
    "print(\"Vertical Stacking:\",colarr)\n",
    "print(\"Height Stacking:\",hgtarr)"
   ]
  },
  {
   "cell_type": "code",
   "execution_count": 27,
   "metadata": {},
   "outputs": [
    {
     "name": "stdout",
     "output_type": "stream",
     "text": [
      "[array([1, 3]), array([5, 7]), array([9])]\n"
     ]
    }
   ],
   "source": [
    "#16. split()\n",
    "arr = np.array([1,3,5,7,9])\n",
    "newarr = np.array_split(arr,3)\n",
    "print(newarr)  "
   ]
  },
  {
   "cell_type": "code",
   "execution_count": 29,
   "metadata": {},
   "outputs": [
    {
     "name": "stdout",
     "output_type": "stream",
     "text": [
      "Element-wise comparison: (array([3]),)\n"
     ]
    }
   ],
   "source": [
    "#17. where()\n",
    "arr = np.array([1,3,5,7,9])\n",
    "x = np.where(arr == 7)\n",
    "print(\"Element-wise comparison:\",x)"
   ]
  },
  {
   "cell_type": "code",
   "execution_count": 30,
   "metadata": {},
   "outputs": [
    {
     "name": "stdout",
     "output_type": "stream",
     "text": [
      "Sorted array: [1 2 3 4 5 7 9]\n"
     ]
    }
   ],
   "source": [
    "#18. sort()\n",
    "arr = np.array([5,2,7,9,1,3,4])\n",
    "print(\"Sorted array:\",np.sort(arr))"
   ]
  },
  {
   "cell_type": "code",
   "execution_count": 33,
   "metadata": {},
   "outputs": [
    {
     "name": "stdout",
     "output_type": "stream",
     "text": [
      "Random number: 96\n",
      "Random number: [1 1 9 0 1]\n"
     ]
    }
   ],
   "source": [
    "#19. Random number\n",
    "x = np.random.randint(100)\n",
    "print(\"Random number:\",x)\n",
    "\n",
    "y = np.random.randint(10,size=5)\n",
    "print(\"Random number:\",y)"
   ]
  },
  {
   "cell_type": "code",
   "execution_count": 34,
   "metadata": {},
   "outputs": [
    {
     "data": {
      "text/plain": [
       "np.float64(1.0)"
      ]
     },
     "execution_count": 34,
     "metadata": {},
     "output_type": "execute_result"
    }
   ],
   "source": [
    "#20. Trignonometric function\n",
    "x = np.sin(np.pi/2)\n",
    "x"
   ]
  },
  {
   "cell_type": "code",
   "execution_count": 35,
   "metadata": {},
   "outputs": [
    {
     "data": {
      "text/plain": [
       "array([1.57079633, 3.14159265, 4.71238898, 6.28318531])"
      ]
     },
     "execution_count": 35,
     "metadata": {},
     "output_type": "execute_result"
    }
   ],
   "source": [
    "#21. DEG to RAD\n",
    "arr = np.array([90, 180, 270, 360])\n",
    "x = np.deg2rad(arr)\n",
    "x"
   ]
  },
  {
   "cell_type": "code",
   "execution_count": 36,
   "metadata": {},
   "outputs": [
    {
     "name": "stdout",
     "output_type": "stream",
     "text": [
      "Angle: 90.0\n"
     ]
    }
   ],
   "source": [
    "#22. Find angle\n",
    "x = np.arcsin(1.0)\n",
    "print(\"Angle:\",np.rad2deg(x))"
   ]
  },
  {
   "cell_type": "code",
   "execution_count": 37,
   "metadata": {},
   "outputs": [
    {
     "data": {
      "text/plain": [
       "np.float64(25.495097567963924)"
      ]
     },
     "execution_count": 37,
     "metadata": {},
     "output_type": "execute_result"
    }
   ],
   "source": [
    "#23. Hypotenuse\n",
    "x = np.hypot(11,23)\n",
    "x"
   ]
  },
  {
   "cell_type": "code",
   "execution_count": 38,
   "metadata": {},
   "outputs": [
    {
     "data": {
      "text/plain": [
       "np.int64(5)"
      ]
     },
     "execution_count": 38,
     "metadata": {},
     "output_type": "execute_result"
    }
   ],
   "source": [
    "#24. GCD\n",
    "x = np.gcd(35,115)\n",
    "x"
   ]
  },
  {
   "cell_type": "code",
   "execution_count": 39,
   "metadata": {},
   "outputs": [
    {
     "name": "stdout",
     "output_type": "stream",
     "text": [
      "Difference: [  5  10 -20]\n"
     ]
    }
   ],
   "source": [
    "#25. Difference\n",
    "arr = np.array([10 ,15, 25, 5])\n",
    "newarr = np.diff(arr)\n",
    "print(\"Difference:\",newarr)"
   ]
  },
  {
   "cell_type": "code",
   "execution_count": 41,
   "metadata": {},
   "outputs": [
    {
     "name": "stdout",
     "output_type": "stream",
     "text": [
      "Product: 945\n"
     ]
    }
   ],
   "source": [
    "#26. Product\n",
    "arr = np.array([1,3,5,7,9])\n",
    "arr = np.prod(arr)\n",
    "print(\"Product:\",arr)"
   ]
  },
  {
   "cell_type": "code",
   "execution_count": 42,
   "metadata": {},
   "outputs": [
    {
     "name": "stdout",
     "output_type": "stream",
     "text": [
      "Product: 1008\n"
     ]
    }
   ],
   "source": [
    "#27. Find product\n",
    "arr1 = np.array([1,3,7])\n",
    "arr2 = np.array([2,4,6])\n",
    "x = np.prod([arr1,arr2])\n",
    "print(\"Product:\",x)"
   ]
  },
  {
   "cell_type": "code",
   "execution_count": 43,
   "metadata": {},
   "outputs": [
    {
     "name": "stdout",
     "output_type": "stream",
     "text": [
      "Cumulative product: [  1   3  15 105 945]\n"
     ]
    }
   ],
   "source": [
    "#28. Cumulative product\n",
    "arr = np.array([1,3,5,7,9])\n",
    "x = np.cumprod(arr)\n",
    "print(\"Cumulative product:\",x)"
   ]
  },
  {
   "cell_type": "code",
   "execution_count": 44,
   "metadata": {},
   "outputs": [
    {
     "name": "stdout",
     "output_type": "stream",
     "text": [
      "Demon\n"
     ]
    }
   ],
   "source": [
    "#29. Capitalize\n",
    "print(np.char.capitalize('demon'))"
   ]
  },
  {
   "cell_type": "code",
   "execution_count": 45,
   "metadata": {},
   "outputs": [
    {
     "name": "stdout",
     "output_type": "stream",
     "text": [
      "Demon Slayer\n"
     ]
    }
   ],
   "source": [
    "#30. Title\n",
    "print(np.char.title('demon slayer'))"
   ]
  },
  {
   "cell_type": "code",
   "execution_count": 47,
   "metadata": {},
   "outputs": [
    {
     "name": "stdout",
     "output_type": "stream",
     "text": [
      "demon\n"
     ]
    }
   ],
   "source": [
    "#31. Lower\n",
    "print(np.char.lower('DEMON'))"
   ]
  },
  {
   "cell_type": "code",
   "execution_count": 49,
   "metadata": {},
   "outputs": [
    {
     "name": "stdout",
     "output_type": "stream",
     "text": [
      "I am a Demon\n"
     ]
    }
   ],
   "source": [
    "#32. Replace\n",
    "print(np.char.replace('I was a Demon','was','am'))"
   ]
  }
 ],
 "metadata": {
  "kernelspec": {
   "display_name": "Python 3",
   "language": "python",
   "name": "python3"
  },
  "language_info": {
   "codemirror_mode": {
    "name": "ipython",
    "version": 3
   },
   "file_extension": ".py",
   "mimetype": "text/x-python",
   "name": "python",
   "nbconvert_exporter": "python",
   "pygments_lexer": "ipython3",
   "version": "3.12.4"
  }
 },
 "nbformat": 4,
 "nbformat_minor": 2
}
